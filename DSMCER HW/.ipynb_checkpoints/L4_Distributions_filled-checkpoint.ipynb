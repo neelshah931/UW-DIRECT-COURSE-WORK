{
 "cells": [
  {
   "cell_type": "markdown",
   "metadata": {},
   "source": [
    "## Distributions, PDFs/PMFs, CDF and sampling from distributions"
   ]
  },
  {
   "cell_type": "markdown",
   "metadata": {},
   "source": [
    "Today, we are going to explore statistical distributions, create figures of their PDFs and PMFs, calculate their CDFs, and write some code to sample from the distributions.\n",
    "\n",
    "But first, imports:"
   ]
  },
  {
   "cell_type": "code",
   "execution_count": 15,
   "metadata": {},
   "outputs": [],
   "source": [
    "import math\n",
    "\n",
    "import matplotlib.pyplot as plt\n",
    "import numpy as np\n",
    "import pandas as pd\n",
    "import scipy.interpolate\n",
    "\n",
    "%matplotlib inline"
   ]
  },
  {
   "cell_type": "markdown",
   "metadata": {},
   "source": [
    "### Let's start with the binomial distribution"
   ]
  },
  {
   "cell_type": "markdown",
   "metadata": {},
   "source": [
    "Use LaTeX to write the equation for the PMF in the cell below. Use the form with *N* and *p*. [Here](https://www.overleaf.com/learn/latex/Mathematical_expressions) is a guide to writing mathematical expressions with LaTeX."
   ]
  },
  {
   "cell_type": "markdown",
   "metadata": {},
   "source": [
    "$\n",
    "    \\binom{n}{k} p^k(1-p)^{n-k}\n",
    "$"
   ]
  },
  {
   "cell_type": "markdown",
   "metadata": {},
   "source": [
    "### Create a function that can be used to compute P(x)"
   ]
  },
  {
   "cell_type": "markdown",
   "metadata": {},
   "source": [
    "Your function will need three arguments. Hint: look at `math.factorial` for computing factorials and `math.pow` for exponents."
   ]
  },
  {
   "cell_type": "code",
   "execution_count": 2,
   "metadata": {},
   "outputs": [],
   "source": [
    "def binomial_pmf(p, n, k):\n",
    "    fact = math.factorial(n)/(math.factorial(k)*math.factorial(n-k))\n",
    "    probability = fact*math.pow(p, k)*math.pow(1-p, n-k)\n",
    "    \n",
    "    return probability"
   ]
  },
  {
   "cell_type": "code",
   "execution_count": 3,
   "metadata": {},
   "outputs": [
    {
     "data": {
      "text/plain": [
       "0.2255859375"
      ]
     },
     "execution_count": 3,
     "metadata": {},
     "output_type": "execute_result"
    }
   ],
   "source": [
    "binomial_pmf(0.5, 12, 6)"
   ]
  },
  {
   "cell_type": "markdown",
   "metadata": {},
   "source": [
    "### Call your function on the integers from 0 to N"
   ]
  },
  {
   "cell_type": "markdown",
   "metadata": {},
   "source": [
    "Why can't it be bigger than N?\n",
    "\n",
    "Hint: Look at `np.arange` for generating linearly spaced integers. List comprehensions are your friend here. For loops also work. A list comprehension is like a compressed for loop. Use either construct as you prefer, but the list comprehension might look like:\n",
    "\n",
    "    [binomial_P(20, 0.5, n) for n in np.arange(0, 21)]"
   ]
  },
  {
   "cell_type": "code",
   "execution_count": 4,
   "metadata": {},
   "outputs": [
    {
     "data": {
      "text/plain": [
       "[9.5367431640625e-07,\n",
       " 1.9073486328125e-05,\n",
       " 0.0001811981201171875,\n",
       " 0.001087188720703125,\n",
       " 0.004620552062988281,\n",
       " 0.0147857666015625,\n",
       " 0.03696441650390625,\n",
       " 0.0739288330078125,\n",
       " 0.12013435363769531,\n",
       " 0.16017913818359375,\n",
       " 0.17619705200195312,\n",
       " 0.16017913818359375,\n",
       " 0.12013435363769531,\n",
       " 0.0739288330078125,\n",
       " 0.03696441650390625,\n",
       " 0.0147857666015625,\n",
       " 0.004620552062988281,\n",
       " 0.001087188720703125,\n",
       " 0.0001811981201171875,\n",
       " 1.9073486328125e-05,\n",
       " 9.5367431640625e-07]"
      ]
     },
     "execution_count": 4,
     "metadata": {},
     "output_type": "execute_result"
    }
   ],
   "source": [
    "[binomial_pmf(0.5, 20, k) for k in np.arange(0, 21)]"
   ]
  },
  {
   "cell_type": "markdown",
   "metadata": {},
   "source": [
    "### Now, make a figure of *x* vs *P(x)*"
   ]
  },
  {
   "cell_type": "code",
   "execution_count": 18,
   "metadata": {},
   "outputs": [
    {
     "data": {
      "image/png": "[encoded data removed]",
      "text/plain": [
       "<Figure size 504x360 with 1 Axes>"
      ]
     },
     "metadata": {},
     "output_type": "display_data"
    }
   ],
   "source": [
    "y1 = [binomial_pmf(0.5, 20, k) for k in np.arange(0, 21)]\n",
    "y2 = [binomial_pmf(0.7, 20, k) for k in np.arange(0, 21)]\n",
    "y3 = [binomial_pmf(0.5, 40, k) for k in np.arange(0, 41)]\n",
    "\n",
    "fig = plt.figure(figsize=(7, 5))\n",
    "ax1 = plt.scatter(np.arange(0, 21), y1, c='b', label='p=0.5 and n=20')\n",
    "ax2 = plt.scatter(np.arange(0, 21), y2, c='g', label='p=0.7 and n=20')\n",
    "ax3 = plt.scatter(np.arange(0, 41), y3, c='r', label='p=0.5 and n=40')\n",
    "plt.legend()\n",
    "plt.yticks(np.arange(0, 0.26, 0.05))\n",
    "plt.ylim([-0.02, 0.27])\n",
    "plt.show()"
   ]
  },
  {
   "cell_type": "markdown",
   "metadata": {},
   "source": [
    "### Moving on, do the same thing for the Poisson distribution"
   ]
  },
  {
   "cell_type": "markdown",
   "metadata": {},
   "source": [
    "Write the LaTeX in the cell below:"
   ]
  },
  {
   "cell_type": "markdown",
   "metadata": {},
   "source": [
    "$\n",
    "  \\frac{\\lambda^k e^{-\\lambda}}{k!}\n",
    "$"
   ]
  },
  {
   "cell_type": "markdown",
   "metadata": {},
   "source": [
    "### Create a function for *P(x)*"
   ]
  },
  {
   "cell_type": "markdown",
   "metadata": {},
   "source": [
    "Include arguments for $\\lambda$ and *k*"
   ]
  },
  {
   "cell_type": "code",
   "execution_count": 8,
   "metadata": {},
   "outputs": [],
   "source": [
    "def poisson_p(lamb, k):\n",
    "    probability = math.pow(lamb, k)*math.exp(-lamb)/math.factorial(k)\n",
    "    \n",
    "    return probability"
   ]
  },
  {
   "cell_type": "markdown",
   "metadata": {},
   "source": [
    "### Call your function on integers linearly spaced"
   ]
  },
  {
   "cell_type": "code",
   "execution_count": 9,
   "metadata": {},
   "outputs": [
    {
     "data": {
      "text/plain": [
       "[0.36787944117144233,\n",
       " 0.36787944117144233,\n",
       " 0.18393972058572117,\n",
       " 0.06131324019524039,\n",
       " 0.015328310048810098,\n",
       " 0.0030656620097620196,\n",
       " 0.0005109436682936699,\n",
       " 7.299195261338141e-05,\n",
       " 9.123994076672677e-06,\n",
       " 1.0137771196302974e-06,\n",
       " 1.0137771196302975e-07,\n",
       " 9.216155633002704e-09,\n",
       " 7.68012969416892e-10,\n",
       " 5.907792072437631e-11,\n",
       " 4.2198514803125934e-12,\n",
       " 2.8132343202083955e-13,\n",
       " 1.7582714501302472e-14,\n",
       " 1.0342773236060278e-15,\n",
       " 5.745985131144599e-17,\n",
       " 3.0242027006024205e-18,\n",
       " 1.5121013503012103e-19]"
      ]
     },
     "execution_count": 9,
     "metadata": {},
     "output_type": "execute_result"
    }
   ],
   "source": [
    "[poisson_p(1, k) for k in np.arange(0, 21)]"
   ]
  },
  {
   "cell_type": "markdown",
   "metadata": {},
   "source": [
    "### Make a figure"
   ]
  },
  {
   "cell_type": "markdown",
   "metadata": {},
   "source": [
    "Try to reproduce this figure:"
   ]
  },
  {
   "cell_type": "code",
   "execution_count": 20,
   "metadata": {},
   "outputs": [
    {
     "data": {
      "image/png": "[encoded data removed]",
      "text/plain": [
       "<Figure size 504x360 with 1 Axes>"
      ]
     },
     "metadata": {},
     "output_type": "display_data"
    }
   ],
   "source": [
    "y1 = [poisson_p(1, k) for k in np.arange(0, 21)]\n",
    "y2 = [poisson_p(4, k) for k in np.arange(0, 21)]\n",
    "y3 = [poisson_p(10, k) for k in np.arange(0, 21)]\n",
    "\n",
    "fig = plt.figure(figsize=(7, 5))\n",
    "\n",
    "ax1 = plt.plot(np.arange(0, 21), y1, c='k', linewidth=0.75, zorder=0)\n",
    "ax2 = plt.plot(np.arange(0, 21), y2, c='k', linewidth=0.75, zorder=1)\n",
    "ax3 = plt.plot(np.arange(0, 21), y3, c='k', linewidth=0.75, zorder=2)\n",
    "\n",
    "ax1 = plt.scatter(np.arange(0, 21), y1, s=70, c='gold', edgecolors='k', label='$\\lambda =1$', zorder=3)\n",
    "ax2 = plt.scatter(np.arange(0, 21), y2, s=70, c='purple', edgecolors='k', label='$\\lambda =4$', zorder=4)\n",
    "ax3 = plt.scatter(np.arange(0, 21), y3, s=70, c='cyan', edgecolors='k', label='$\\lambda =10$', zorder=5)\n",
    "plt.legend()\n",
    "#plt.yticks(np.arange(0, 0.26, 0.05))\n",
    "plt.ylim([0, 0.4])\n",
    "plt.show()"
   ]
  },
  {
   "cell_type": "markdown",
   "metadata": {},
   "source": [
    "What's wrong with this figure btw?"
   ]
  },
  {
   "cell_type": "markdown",
   "metadata": {},
   "source": [
    "### Enough discrete distributions. Let's try a continuous one, the normal distribution"
   ]
  },
  {
   "cell_type": "markdown",
   "metadata": {},
   "source": [
    "Begin by writing the *P(x)* equation"
   ]
  },
  {
   "cell_type": "markdown",
   "metadata": {},
   "source": [
    "$\n",
    "  \\frac{1}{\\sqrt{2 \\pi \\sigma^{2}}}e^{-\\frac{(x-\\mu)^{2}}{2\\sigma^{2}}}\n",
    "$"
   ]
  },
  {
   "cell_type": "markdown",
   "metadata": {},
   "source": [
    "### Write a function that implements *P(x)*"
   ]
  },
  {
   "cell_type": "code",
   "execution_count": 29,
   "metadata": {},
   "outputs": [],
   "source": [
    "def normal_p(x, mu, sigma):\n",
    "    coef = math.pow(2*math.pi*math.pow(sigma, 2), -0.5)\n",
    "    probability = coef*math.exp(-math.pow(x-mu, 2)/(2*math.pow(sigma, 2)))\n",
    "    return probability"
   ]
  },
  {
   "cell_type": "code",
   "execution_count": 70,
   "metadata": {},
   "outputs": [
    {
     "data": {
      "text/plain": [
       "1.4867195147342977e-06"
      ]
     },
     "execution_count": 70,
     "metadata": {},
     "output_type": "execute_result"
    }
   ],
   "source": [
    "normal_p(5, 0, 1)"
   ]
  },
  {
   "cell_type": "markdown",
   "metadata": {},
   "source": [
    "### Call your function on a list of numbers"
   ]
  },
  {
   "cell_type": "markdown",
   "metadata": {},
   "source": [
    "Hint: look at `np.linspace`"
   ]
  },
  {
   "cell_type": "code",
   "execution_count": 33,
   "metadata": {},
   "outputs": [
    {
     "data": {
      "text/plain": [
       "[7.69459862670642e-23,\n",
       " 1.6485437289111684e-18,\n",
       " 1.1662784480831181e-14,\n",
       " 2.7245281949674377e-11,\n",
       " 2.101685077170377e-08,\n",
       " 5.353419200482968e-06,\n",
       " 0.00045027946514195825,\n",
       " 0.012506054257598969,\n",
       " 0.11469533473205255,\n",
       " 0.34734293966681634,\n",
       " 0.3473429396668167,\n",
       " 0.11469533473205289,\n",
       " 0.012506054257598969,\n",
       " 0.00045027946514195825,\n",
       " 5.353419200482986e-06,\n",
       " 2.1016850771703843e-08,\n",
       " 2.7245281949674474e-11,\n",
       " 1.1662784480831181e-14,\n",
       " 1.648543728911192e-18,\n",
       " 7.69459862670642e-23]"
      ]
     },
     "execution_count": 33,
     "metadata": {},
     "output_type": "execute_result"
    }
   ],
   "source": [
    "[normal_p(x, 0, 1) for x in np.linspace(-10, 10, 20)]"
   ]
  },
  {
   "cell_type": "markdown",
   "metadata": {},
   "source": [
    "### Reproduce this figure:"
   ]
  },
  {
   "cell_type": "code",
   "execution_count": 66,
   "metadata": {},
   "outputs": [
    {
     "data": {
      "image/png": "[encoded data removed]",
      "text/plain": [
       "<Figure size 504x360 with 1 Axes>"
      ]
     },
     "metadata": {},
     "output_type": "display_data"
    }
   ],
   "source": [
    "y1 = [normal_p(x, 0, 0.2) for x in np.linspace(-5, 5, 100)]\n",
    "y2 = [normal_p(x, 0, 1.0) for x in np.linspace(-5, 5, 100)]\n",
    "y3 = [normal_p(x, 0, 5.0) for x in np.linspace(-5, 5, 100)]\n",
    "y4 = [normal_p(x, -2, 0.5) for x in np.linspace(-5, 5, 100)]\n",
    "\n",
    "fig = plt.figure(figsize=(7, 5))\n",
    "\n",
    "ax1 = plt.plot(np.linspace(-5, 5, 100), y1, c='b', linewidth=3, label='$\\mu$=0, $\\sigma^{2}$=0.2')\n",
    "ax2 = plt.plot(np.linspace(-5, 5, 100), y2, c='r', linewidth=3, label='$\\mu$=0, $\\sigma^{2}$=1.0')\n",
    "ax3 = plt.plot(np.linspace(-5, 5, 100), y3, c='y', linewidth=3, label='$\\mu$=0, $\\sigma^{2}$=5.0')\n",
    "ax4 = plt.plot(np.linspace(-5, 5, 100), y4, c='g', linewidth=3, label='$\\mu$=0, $\\sigma^{2}$=0.5')\n",
    "\n",
    "plt.legend()\n",
    "plt.yticks(np.linspace(0, 1.0, 6))\n",
    "plt.ylim([-0.05, 1.05])\n",
    "plt.xticks(np.linspace(-5, 5, 11))\n",
    "plt.xlim([-5.2, 5.2])\n",
    "plt.xlabel('$x$')\n",
    "plt.ylabel('$\\psi_{\\mu,\\sigma^{2}}(x)$')\n",
    "plt.grid(True)\n",
    "plt.minorticks_on()\n",
    "plt.tick_params(direction='in', length=10)\n",
    "plt.tick_params(which='minor', direction='in', length=5)\n",
    "plt.show()"
   ]
  },
  {
   "cell_type": "markdown",
   "metadata": {},
   "source": [
    "### OK, now to CDFs"
   ]
  },
  {
   "cell_type": "markdown",
   "metadata": {},
   "source": [
    "Let's look at the CDF for an empirical distribution. Recall this from our descriptive statistics notebook."
   ]
  },
  {
   "cell_type": "code",
   "execution_count": 11,
   "metadata": {},
   "outputs": [
    {
     "data": {
      "text/html": [
       "<div>\n",
       "<style scoped>\n",
       "    .dataframe tbody tr th:only-of-type {\n",
       "        vertical-align: middle;\n",
       "    }\n",
       "\n",
       "    .dataframe tbody tr th {\n",
       "        vertical-align: top;\n",
       "    }\n",
       "\n",
       "    .dataframe thead th {\n",
       "        text-align: right;\n",
       "    }\n",
       "</style>\n",
       "<table border=\"1\" class=\"dataframe\">\n",
       "  <thead>\n",
       "    <tr style=\"text-align: right;\">\n",
       "      <th></th>\n",
       "      <th>population</th>\n",
       "    </tr>\n",
       "  </thead>\n",
       "  <tbody>\n",
       "    <tr>\n",
       "      <th>0</th>\n",
       "      <td>-4.910586</td>\n",
       "    </tr>\n",
       "    <tr>\n",
       "      <th>1</th>\n",
       "      <td>-7.378560</td>\n",
       "    </tr>\n",
       "    <tr>\n",
       "      <th>2</th>\n",
       "      <td>-7.639542</td>\n",
       "    </tr>\n",
       "    <tr>\n",
       "      <th>3</th>\n",
       "      <td>-6.458923</td>\n",
       "    </tr>\n",
       "    <tr>\n",
       "      <th>4</th>\n",
       "      <td>-5.431510</td>\n",
       "    </tr>\n",
       "  </tbody>\n",
       "</table>\n",
       "</div>"
      ],
      "text/plain": [
       "   population\n",
       "0   -4.910586\n",
       "1   -7.378560\n",
       "2   -7.639542\n",
       "3   -6.458923\n",
       "4   -5.431510"
      ]
     },
     "execution_count": 11,
     "metadata": {},
     "output_type": "execute_result"
    }
   ],
   "source": [
    "d1 = np.random.normal(loc=-6.4, scale=1.2, size=40000)\n",
    "d2 = np.random.normal(loc=4, scale=10, size=16000)\n",
    "d3 = np.random.normal(loc=22, scale=8, size=72000)\n",
    "population = np.concatenate([d1, d2, d3])\n",
    "pop = pd.DataFrame(data=population, columns=['population'])\n",
    "pop.head()"
   ]
  },
  {
   "cell_type": "markdown",
   "metadata": {},
   "source": [
    "### First, plot a histogram of the data"
   ]
  },
  {
   "cell_type": "code",
   "execution_count": 7,
   "metadata": {},
   "outputs": [
    {
     "data": {
      "text/plain": [
       "array([[<matplotlib.axes._subplots.AxesSubplot object at 0x000001DD03DF2F98>]],\n",
       "      dtype=object)"
      ]
     },
     "execution_count": 7,
     "metadata": {},
     "output_type": "execute_result"
    },
    {
     "data": {
      "image/png": "[encoded data removed]",
      "text/plain": [
       "<Figure size 432x288 with 1 Axes>"
      ]
     },
     "metadata": {
      "needs_background": "light"
     },
     "output_type": "display_data"
    }
   ],
   "source": [
    "pop.hist(bins=100)"
   ]
  },
  {
   "cell_type": "markdown",
   "metadata": {},
   "source": [
    "### Now let's make a function to interpolate our histogram"
   ]
  },
  {
   "cell_type": "markdown",
   "metadata": {},
   "source": [
    "If you aren't sure what interpolation is, read [this](url).\n",
    "\n",
    "Call your function inverse_CDF and have it take two arguments:\n",
    "\n",
    "* `data` which is a list of values that are the empirical distribution you want to construct the CDF from.\n",
    "* `bins` which is the number of bins to use in the histogram used to interpolate the CDF.\n",
    "\n",
    "The function should use np.histogram to create data objects (not plots) that contain binned data. Hint: your call will look something like:\n",
    "\n",
    "`hist_data, bin_edges = np.histogram(data, bins=bins, density=True)`\n",
    "\n",
    "Why are we using the `density=True` parameter?\n",
    "\n",
    "Remember that the CDF is the cumulative sum of the probability density function. This means we can create a new list with an entry for each bin and use np.cumsum to sum across a list that is the histogram density * width of the bin. Here is what I came up with:\n",
    "\n",
    "`cdf_bins = np.cumsum(hist_data * np.diff(bin_edges))\n",
    "cdf_bins = np.insert(cdf_bins, 0, 0)`\n",
    "\n",
    "Two questions for you:\n",
    "* `np.diff` computes the bin width. Why?\n",
    "* Why do I have the `np.insert`?\n",
    "\n",
    "`scipy` has a nice interpolation family of functions.\n",
    "\n",
    "`import scipy.interpolate\n",
    "\n",
    "inv_cdf = scipy.interpolate.interp1d(cdf_bins, bin_edges)`\n",
    "\n",
    "Google that (or use the documentation) for more information. Hint: make sure the function output both the CDF and the inverse CDF.\n",
    "\n",
    "Note that the `scipy.interpolate.interp1d` interface returns something like a function that you can call and pass values e.g. `inv_cdf([0.1, 0.2, 0.3])`"
   ]
  },
  {
   "cell_type": "code",
   "execution_count": 16,
   "metadata": {},
   "outputs": [],
   "source": [
    "def inverse_cdf(data, bins=100):\n",
    "    hist_data, bin_edges = np.histogram(data, bins=100, density=True)\n",
    "    cdf_bins = np.cumsum(hist_data * np.diff(bin_edges))\n",
    "    cdf_bins = np.insert(cdf_bins, 0, 0)\n",
    "    \n",
    "    inv_cdf = scipy.interpolate.interp1d(cdf_bins, bin_edges)\n",
    "    cdf = scipy.interpolate.interp1d(bin_edges, cdf_bins)\n",
    "    \n",
    "    return [cdf, inv_cdf]"
   ]
  },
  {
   "cell_type": "markdown",
   "metadata": {},
   "source": [
    "If you did it right, the cell below should use your function to create interpolations of the CDF and the inverse CDF:"
   ]
  },
  {
   "cell_type": "code",
   "execution_count": 18,
   "metadata": {},
   "outputs": [],
   "source": [
    "[cdf, inv_cdf] = inverse_cdf(pop, 100)"
   ]
  },
  {
   "cell_type": "markdown",
   "metadata": {},
   "source": [
    "### Plot the CDF"
   ]
  },
  {
   "cell_type": "code",
   "execution_count": 89,
   "metadata": {},
   "outputs": [],
   "source": [
    "x = np.linspace(np.min(pop), np.max(pop), num=100)"
   ]
  },
  {
   "cell_type": "code",
   "execution_count": 94,
   "metadata": {},
   "outputs": [
    {
     "data": {
      "text/plain": [
       "[<matplotlib.lines.Line2D at 0x1d17d791470>]"
      ]
     },
     "execution_count": 94,
     "metadata": {},
     "output_type": "execute_result"
    },
    {
     "data": {
      "image/png": "[encoded data removed]",
      "text/plain": [
       "<Figure size 360x360 with 1 Axes>"
      ]
     },
     "metadata": {},
     "output_type": "display_data"
    }
   ],
   "source": [
    "plt.figure(figsize=(5, 5))\n",
    "plt.plot(x, cdf(x))"
   ]
  },
  {
   "cell_type": "code",
   "execution_count": 91,
   "metadata": {},
   "outputs": [],
   "source": [
    "zero2one = np.linspace(0, .9999, num=100)"
   ]
  },
  {
   "cell_type": "code",
   "execution_count": 93,
   "metadata": {},
   "outputs": [
    {
     "data": {
      "text/plain": [
       "[<matplotlib.lines.Line2D at 0x1d17aee9630>]"
      ]
     },
     "execution_count": 93,
     "metadata": {},
     "output_type": "execute_result"
    },
    {
     "data": {
      "image/png": "[encoded data removed]",
      "text/plain": [
       "<Figure size 360x360 with 1 Axes>"
      ]
     },
     "metadata": {},
     "output_type": "display_data"
    }
   ],
   "source": [
    "plt.figure(figsize=(5, 5))\n",
    "plt.plot(zero2one, inv_cdf(zero2one))"
   ]
  },
  {
   "cell_type": "markdown",
   "metadata": {},
   "source": [
    "### Now you can sample from your inverse CDF to generate values from our empirical distribution"
   ]
  },
  {
   "cell_type": "markdown",
   "metadata": {},
   "source": [
    "Let's do that with `np.random.rand`. Why are we using this random function? What is special about how it works that makes it useful with inverse CDF?"
   ]
  },
  {
   "cell_type": "markdown",
   "metadata": {},
   "source": [
    "OK, let's put this together with something like:\n",
    "\n",
    "`sample = inv_cdf(np.random.rand(1000))`"
   ]
  },
  {
   "cell_type": "code",
   "execution_count": 95,
   "metadata": {},
   "outputs": [],
   "source": [
    "sample = inv_cdf(np.random.rand(1000))"
   ]
  },
  {
   "cell_type": "markdown",
   "metadata": {},
   "source": [
    "Now make a histogram of sample and set the bins to 100. How does it look? What happens when you increase the argument to `np.random.rand`?"
   ]
  },
  {
   "cell_type": "code",
   "execution_count": 108,
   "metadata": {},
   "outputs": [
    {
     "data": {
      "text/plain": [
       "(0, 0.15)"
      ]
     },
     "execution_count": 108,
     "metadata": {},
     "output_type": "execute_result"
    },
    {
     "data": {
      "image/png": "[encoded data removed]",
      "text/plain": [
       "<Figure size 432x288 with 1 Axes>"
      ]
     },
     "metadata": {},
     "output_type": "display_data"
    }
   ],
   "source": [
    "sample = inv_cdf(np.random.rand(1000))\n",
    "cdf_data = pd.DataFrame(data=sample, columns=['inv_cdf'])\n",
    "cdf_data.hist(bins=100, density=True)\n",
    "plt.xlim([-40, 60])\n",
    "plt.ylim([0, 0.15])"
   ]
  },
  {
   "cell_type": "code",
   "execution_count": 109,
   "metadata": {},
   "outputs": [
    {
     "data": {
      "text/plain": [
       "(0, 0.15)"
      ]
     },
     "execution_count": 109,
     "metadata": {},
     "output_type": "execute_result"
    },
    {
     "data": {
      "image/png": "[encoded data removed]",
      "text/plain": [
       "<Figure size 432x288 with 1 Axes>"
      ]
     },
     "metadata": {},
     "output_type": "display_data"
    }
   ],
   "source": [
    "sample = inv_cdf(np.random.rand(100))\n",
    "cdf_data = pd.DataFrame(data=sample, columns=['inv_cdf'])\n",
    "cdf_data.hist(bins=100, density=True)\n",
    "plt.xlim([-40, 60])\n",
    "plt.ylim([0, 0.15])"
   ]
  },
  {
   "cell_type": "code",
   "execution_count": 110,
   "metadata": {},
   "outputs": [
    {
     "data": {
      "text/plain": [
       "(0, 0.15)"
      ]
     },
     "execution_count": 110,
     "metadata": {},
     "output_type": "execute_result"
    },
    {
     "data": {
      "image/png": "[encoded data removed]",
      "text/plain": [
       "<Figure size 432x288 with 1 Axes>"
      ]
     },
     "metadata": {},
     "output_type": "display_data"
    }
   ],
   "source": [
    "sample = inv_cdf(np.random.rand(10000))\n",
    "cdf_data = pd.DataFrame(data=sample, columns=['inv_cdf'])\n",
    "cdf_data.hist(bins=100, density=True)\n",
    "plt.xlim([-40, 60])\n",
    "plt.ylim([0, 0.15])"
   ]
  },
  {
   "cell_type": "code",
   "execution_count": 111,
   "metadata": {},
   "outputs": [
    {
     "data": {
      "text/plain": [
       "(0, 0.15)"
      ]
     },
     "execution_count": 111,
     "metadata": {},
     "output_type": "execute_result"
    },
    {
     "data": {
      "image/png": "[encoded data removed]",
      "text/plain": [
       "<Figure size 432x288 with 1 Axes>"
      ]
     },
     "metadata": {},
     "output_type": "display_data"
    }
   ],
   "source": [
    "sample = inv_cdf(np.random.rand(100000))\n",
    "cdf_data = pd.DataFrame(data=sample, columns=['inv_cdf'])\n",
    "cdf_data.hist(bins=100, density=True)\n",
    "plt.xlim([-40, 60])\n",
    "plt.ylim([0, 0.15])"
   ]
  },
  {
   "cell_type": "code",
   "execution_count": 112,
   "metadata": {},
   "outputs": [
    {
     "data": {
      "text/plain": [
       "(0, 0.15)"
      ]
     },
     "execution_count": 112,
     "metadata": {},
     "output_type": "execute_result"
    },
    {
     "data": {
      "image/png": "[encoded data removed]",
      "text/plain": [
       "<Figure size 432x288 with 1 Axes>"
      ]
     },
     "metadata": {},
     "output_type": "display_data"
    }
   ],
   "source": [
    "sample = inv_cdf(np.random.rand(1000000))\n",
    "cdf_data = pd.DataFrame(data=sample, columns=['inv_cdf'])\n",
    "cdf_data.hist(bins=100, density=True)\n",
    "plt.xlim([-40, 60])\n",
    "plt.ylim([0, 0.15])"
   ]
  },
  {
   "cell_type": "code",
   "execution_count": null,
   "metadata": {},
   "outputs": [],
   "source": []
  }
 ],
 "metadata": {
  "kernelspec": {
   "display_name": "Python 3",
   "language": "python",
   "name": "python3"
  },
  "language_info": {
   "codemirror_mode": {
    "name": "ipython",
    "version": 3
   },
   "file_extension": ".py",
   "mimetype": "text/x-python",
   "name": "python",
   "nbconvert_exporter": "python",
   "pygments_lexer": "ipython3",
   "version": "3.7.1"
  }
 },
 "nbformat": 4,
 "nbformat_minor": 2
}
